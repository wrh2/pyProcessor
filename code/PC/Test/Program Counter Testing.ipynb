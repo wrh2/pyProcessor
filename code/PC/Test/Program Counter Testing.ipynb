{
 "metadata": {
  "name": "",
  "signature": "sha256:b80bca45eb42eb869911d781e0d7a701593d3407da92cad5f73c1b075eb50b00"
 },
 "nbformat": 3,
 "nbformat_minor": 0,
 "worksheets": [
  {
   "cells": [
    {
     "cell_type": "markdown",
     "metadata": {},
     "source": [
      "by William Harrington\n",
      "\n",
      "## Introduction\n",
      "\n",
      "The purpose of this document is to examine whether or not the program counter operates as intended.\n",
      "\n",
      "## Design\n",
      "\n",
      "The program counter is designed to only increment when the Enable (EN) signal goes high. It should increment by 4 every time this occurs. The ability of the program counter to jump is facilitated by the Load signal. Whenever Load is asserted, whatever value is on the Address signal (addr) is the next output of the program counter.\n",
      "\n",
      "## Testing\n",
      "\n",
      "Need to examine the following:\n",
      "\n",
      "* PC only increments when EN asserted\n",
      "* PC increments by 4\n",
      "* When load asserted PC output is addr\n",
      "\n",
      "### Description\n",
      "\n",
      "The testbench in testbench.py is called 5 separate times to observe the functionality described in the previous sections. In the testbench, the enable signal is asserted every 20ns. On the positive edge of the enable signal, the stimulus checks to see if the clock cycle count is greater than 5 and calls the randrange function with an argument of 2. The randrange function returns either 0 or 1. If it returns 1 and the clock cycle count is greater than 5, then the load signal is asserted and a random number between 0 and 16 that divides by 4 evenly is generated then placed on the addr signal. For more information, see testbench.py.\n",
      "\n",
      "#### Test 1"
     ]
    },
    {
     "cell_type": "code",
     "collapsed": false,
     "input": [
      "from testbench import *\n",
      "main()"
     ],
     "language": "python",
     "metadata": {},
     "outputs": [
      {
       "output_type": "stream",
       "stream": "stdout",
       "text": [
        "t(ns)\t cycle\t output\t addr\t en\t load\n",
        "---------------------------------------------\n",
        "20\t 0\t 0x0L\t 0x0L\t 1\t 0\n",
        "60\t 2\t 0x4L\t 0x0L\t 1\t 0\n",
        "100\t 4\t 0x8L\t 0x0L\t 1\t 0\n",
        "140\t 6\t 0xcL\t 0x0L\t 1\t 0\n",
        "180\t 8\t 0x10L\t 0x0L\t 1\t 0\n",
        "220\t 10\t 0x0L\t 0x0L\t 1\t 1\n",
        "260\t 12\t 0x4L\t 0x0L\t 1\t 0\n",
        "300\t 14\t 0x8L\t 0x0L\t 1\t 0\n",
        "340\t 16\t 0x0L\t 0x0L\t 1\t 1\n",
        "380\t 18\t 0x0L\t 0xcL\t 1\t 1\n",
        "420\t 20\t 0xcL\t 0x4L\t 1\t 1\n",
        "460\t 22\t 0x4L\t 0xcL\t 1\t 1\n",
        "500\t 24\t 0xcL\t 0x0L\t 1\t 1\n",
        "540\t 26\t 0x0L\t 0x8L\t 1\t 1\n",
        "580\t 28\t 0x8L\t 0x4L\t 1\t 1\n",
        "620\t 30\t 0x8L\t 0x0L\t 1\t 0\n",
        "660\t 32\t 0xcL\t 0x0L\t 1\t 0\n",
        "700\t 34\t 0x10L\t 0x0L\t 1\t 0\n",
        "740\t 36\t 0x0L\t 0x0L\t 1\t 1\n",
        "780\t 38\t 0x4L\t 0x0L\t 1\t 0\n",
        "820\t 40\t 0x4L\t 0x4L\t 1\t 1\n",
        "860\t 42\t 0x8L\t 0x0L\t 1\t 0\n",
        "900\t 44\t 0xcL\t 0x0L\t 1\t 0\n",
        "940\t 46\t 0xcL\t 0xcL\t 1\t 1\n",
        "980\t 48\t 0x10L\t 0x0L\t 1\t 0\n"
       ]
      },
      {
       "output_type": "stream",
       "stream": "stderr",
       "text": [
        "<class 'myhdl._SuspendSimulation'>: Simulated 1000 timesteps\n"
       ]
      }
     ],
     "prompt_number": 1
    },
    {
     "cell_type": "markdown",
     "metadata": {},
     "source": [
      "#### Test 2"
     ]
    },
    {
     "cell_type": "code",
     "collapsed": false,
     "input": [
      "from testbench import *\n",
      "main()"
     ],
     "language": "python",
     "metadata": {},
     "outputs": [
      {
       "output_type": "stream",
       "stream": "stdout",
       "text": [
        "t(ns)\t cycle\t output\t addr\t en\t load\n",
        "---------------------------------------------\n",
        "20\t 0\t 0x0L\t 0x0L\t 1\t 0\n",
        "60\t 2\t 0x4L\t 0x0L\t 1\t 0\n",
        "100\t 4\t 0x8L\t 0x0L\t 1\t 0\n",
        "140\t 6\t 0xcL\t 0x0L\t 1\t 0\n",
        "180\t 8\t 0x10L\t 0x0L\t 1\t 0\n",
        "220\t 10\t 0x14L\t 0x0L\t 1\t 0\n",
        "260\t 12\t 0xcL\t 0xcL\t 1\t 1\n",
        "300\t 14\t 0xcL\t 0x0L\t 1\t 1\n",
        "340\t 16\t 0x0L\t 0xcL\t 1\t 1\n",
        "380\t 18\t 0xcL\t 0x0L\t 1\t 1\n",
        "420\t 20\t 0x0L\t 0xcL\t 1\t 1\n",
        "460\t 22\t 0xcL\t 0x8L\t 1\t 1\n",
        "500\t 24\t 0x8L\t 0xcL\t 1\t 1\n",
        "540\t 26\t 0x10L\t 0x0L\t 1\t 0\n",
        "580\t 28\t 0x14L\t 0x0L\t 1\t 0\n",
        "620\t 30\t 0x8L\t 0x8L\t 1\t 1\n",
        "660\t 32\t 0xcL\t 0x0L\t 1\t 0\n",
        "700\t 34\t 0x10L\t 0x0L\t 1\t 0\n",
        "740\t 36\t 0x14L\t 0x0L\t 1\t 0\n",
        "780\t 38\t 0x4L\t 0x4L\t 1\t 1\n",
        "820\t 40\t 0x4L\t 0x4L\t 1\t 1\n",
        "860\t 42\t 0x4L\t 0x8L\t 1\t 1\n",
        "900\t 44\t 0xcL\t 0x0L\t 1\t 0\n",
        "940\t 46\t 0x10L\t 0x0L\t 1\t 0\n",
        "980\t 48\t 0x14L\t 0x0L\t 1\t 0\n"
       ]
      },
      {
       "output_type": "stream",
       "stream": "stderr",
       "text": [
        "<class 'myhdl._SuspendSimulation'>: Simulated 1000 timesteps\n"
       ]
      }
     ],
     "prompt_number": 1
    },
    {
     "cell_type": "markdown",
     "metadata": {},
     "source": [
      "#### Test 3"
     ]
    },
    {
     "cell_type": "code",
     "collapsed": false,
     "input": [
      "from testbench import *\n",
      "main()"
     ],
     "language": "python",
     "metadata": {},
     "outputs": [
      {
       "output_type": "stream",
       "stream": "stdout",
       "text": [
        "t(ns)\t cycle\t output\t addr\t en\t load\n",
        "---------------------------------------------\n",
        "20\t 0\t 0x0L\t 0x0L\t 1\t 0\n",
        "60\t 2\t 0x4L\t 0x0L\t 1\t 0\n",
        "100\t 4\t 0x8L\t 0x0L\t 1\t 0\n",
        "140\t 6\t 0xcL\t 0x0L\t 1\t 0\n",
        "180\t 8\t 0x10L\t 0x0L\t 1\t 0\n",
        "220\t 10\t 0x8L\t 0x8L\t 1\t 1\n",
        "260\t 12\t 0x8L\t 0x8L\t 1\t 1\n",
        "300\t 14\t 0xcL\t 0x0L\t 1\t 0\n",
        "340\t 16\t 0x10L\t 0x0L\t 1\t 0\n",
        "380\t 18\t 0x8L\t 0x8L\t 1\t 1\n",
        "420\t 20\t 0xcL\t 0x0L\t 1\t 0\n",
        "460\t 22\t 0x10L\t 0x0L\t 1\t 0\n",
        "500\t 24\t 0x14L\t 0x0L\t 1\t 0\n",
        "540\t 26\t 0xcL\t 0xcL\t 1\t 1\n",
        "580\t 28\t 0x10L\t 0x0L\t 1\t 0\n",
        "620\t 30\t 0x14L\t 0x0L\t 1\t 0\n",
        "660\t 32\t 0x18L\t 0x0L\t 1\t 0\n",
        "700\t 34\t 0x4L\t 0x4L\t 1\t 1\n",
        "740\t 36\t 0x8L\t 0x0L\t 1\t 0\n",
        "780\t 38\t 0x0L\t 0x0L\t 1\t 1\n",
        "820\t 40\t 0x0L\t 0xcL\t 1\t 1\n",
        "860\t 42\t 0x10L\t 0x0L\t 1\t 0\n",
        "900\t 44\t 0x14L\t 0x0L\t 1\t 0\n",
        "940\t 46\t 0x18L\t 0x0L\t 1\t 0\n",
        "980\t 48\t 0x1cL\t 0x0L\t 1\t 0\n"
       ]
      },
      {
       "output_type": "stream",
       "stream": "stderr",
       "text": [
        "<class 'myhdl._SuspendSimulation'>: Simulated 1000 timesteps\n"
       ]
      }
     ],
     "prompt_number": 1
    },
    {
     "cell_type": "markdown",
     "metadata": {},
     "source": [
      "#### Test 4"
     ]
    },
    {
     "cell_type": "code",
     "collapsed": false,
     "input": [
      "from testbench import *\n",
      "main()"
     ],
     "language": "python",
     "metadata": {},
     "outputs": [
      {
       "output_type": "stream",
       "stream": "stdout",
       "text": [
        "t(ns)\t cycle\t output\t addr\t en\t load\n",
        "---------------------------------------------\n",
        "20\t 0\t 0x0L\t 0x0L\t 1\t 0\n",
        "60\t 2\t 0x4L\t 0x0L\t 1\t 0\n",
        "100\t 4\t 0x8L\t 0x0L\t 1\t 0\n",
        "140\t 6\t 0xcL\t 0x0L\t 1\t 0\n",
        "180\t 8\t 0x0L\t 0x0L\t 1\t 1\n",
        "220\t 10\t 0x4L\t 0x0L\t 1\t 0\n",
        "260\t 12\t 0x8L\t 0x8L\t 1\t 1\n",
        "300\t 14\t 0xcL\t 0x0L\t 1\t 0\n",
        "340\t 16\t 0x10L\t 0x0L\t 1\t 0\n",
        "380\t 18\t 0x14L\t 0x0L\t 1\t 0\n",
        "420\t 20\t 0x18L\t 0x0L\t 1\t 0\n",
        "460\t 22\t 0x1cL\t 0x0L\t 1\t 0\n",
        "500\t 24\t 0x20L\t 0x0L\t 1\t 0\n",
        "540\t 26\t 0x0L\t 0x0L\t 1\t 1\n",
        "580\t 28\t 0x0L\t 0x4L\t 1\t 1\n",
        "620\t 30\t 0x8L\t 0x0L\t 1\t 0\n",
        "660\t 32\t 0xcL\t 0x0L\t 1\t 0\n",
        "700\t 34\t 0x10L\t 0x0L\t 1\t 0\n",
        "740\t 36\t 0x14L\t 0x0L\t 1\t 0\n",
        "780\t 38\t 0x0L\t 0x0L\t 1\t 1\n",
        "820\t 40\t 0x0L\t 0xcL\t 1\t 1\n",
        "860\t 42\t 0x10L\t 0x0L\t 1\t 0\n",
        "900\t 44\t 0x4L\t 0x4L\t 1\t 1\n",
        "940\t 46\t 0x4L\t 0xcL\t 1\t 1\n",
        "980\t 48\t 0x10L\t 0x0L\t 1\t 0\n"
       ]
      },
      {
       "output_type": "stream",
       "stream": "stderr",
       "text": [
        "<class 'myhdl._SuspendSimulation'>: Simulated 1000 timesteps\n"
       ]
      }
     ],
     "prompt_number": 1
    },
    {
     "cell_type": "markdown",
     "metadata": {},
     "source": [
      "#### Test 5"
     ]
    },
    {
     "cell_type": "code",
     "collapsed": false,
     "input": [
      "from testbench import *\n",
      "main()"
     ],
     "language": "python",
     "metadata": {},
     "outputs": [
      {
       "output_type": "stream",
       "stream": "stdout",
       "text": [
        "t(ns)\t cycle\t output\t addr\t en\t load\n",
        "---------------------------------------------\n",
        "20\t 0\t 0x0L\t 0x0L\t 1\t 0\n",
        "60\t 2\t 0x4L\t 0x0L\t 1\t 0\n",
        "100\t 4\t 0x8L\t 0x0L\t 1\t 0\n",
        "140\t 6\t 0xcL\t 0x0L\t 1\t 0\n",
        "180\t 8\t 0x10L\t 0x0L\t 1\t 0\n",
        "220\t 10\t 0x8L\t 0x8L\t 1\t 1\n",
        "260\t 12\t 0x8L\t 0x8L\t 1\t 1\n",
        "300\t 14\t 0xcL\t 0x0L\t 1\t 0\n",
        "340\t 16\t 0x10L\t 0x0L\t 1\t 0\n",
        "380\t 18\t 0x14L\t 0x0L\t 1\t 0\n",
        "420\t 20\t 0x8L\t 0x8L\t 1\t 1\n",
        "460\t 22\t 0xcL\t 0x0L\t 1\t 0\n",
        "500\t 24\t 0x10L\t 0x0L\t 1\t 0\n",
        "540\t 26\t 0x14L\t 0x0L\t 1\t 0\n",
        "580\t 28\t 0x0L\t 0x0L\t 1\t 1\n",
        "620\t 30\t 0x0L\t 0x4L\t 1\t 1\n",
        "660\t 32\t 0x4L\t 0x0L\t 1\t 1\n",
        "700\t 34\t 0x4L\t 0x0L\t 1\t 0\n",
        "740\t 36\t 0x8L\t 0x0L\t 1\t 0\n",
        "780\t 38\t 0x8L\t 0x8L\t 1\t 1\n",
        "820\t 40\t 0x8L\t 0x4L\t 1\t 1\n",
        "860\t 42\t 0x4L\t 0xcL\t 1\t 1\n",
        "900\t 44\t 0x10L\t 0x0L\t 1\t 0\n",
        "940\t 46\t 0x14L\t 0x0L\t 1\t 0\n",
        "980\t 48\t 0x8L\t 0x8L\t 1\t 1\n"
       ]
      },
      {
       "output_type": "stream",
       "stream": "stderr",
       "text": [
        "<class 'myhdl._SuspendSimulation'>: Simulated 1000 timesteps\n"
       ]
      }
     ],
     "prompt_number": 1
    },
    {
     "cell_type": "markdown",
     "metadata": {},
     "source": [
      "### Results\n",
      "\n",
      "Test | Increments when EN = 1 | Increments by 4 | Handles Jump \n",
      "---- | ---------------------- | --------------- | ------------ \n",
      "1    | Pass                   | Pass            | Pass         \n",
      "2    | Pass                   | Pass            | Pass         \n",
      "3    | Pass                   | Pass            | Pass         \n",
      "4    | Pass                   | Pass            | Pass         \n",
      "5    | Pass                   | Pass            | Pass         \n",
      "\n",
      "#### Conclusion\n",
      "\n",
      "In all tests, the desired functionality can be observed. Therefore, the Program Counter operates as intended by design."
     ]
    }
   ],
   "metadata": {}
  }
 ]
}